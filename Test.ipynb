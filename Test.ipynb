{
 "cells": [
  {
   "cell_type": "code",
   "execution_count": null,
   "outputs": [],
   "source": [
    "from NeuralNetwork import NeuralNetwork\n",
    "import matplotlib.pyplot as plt\n",
    "import numpy as np"
   ],
   "metadata": {
    "collapsed": false,
    "is_executing": true
   },
   "id": "16fb7b2dc0aca33d"
  },
  {
   "cell_type": "code",
   "execution_count": null,
   "id": "initial_id",
   "metadata": {
    "collapsed": true,
    "is_executing": true
   },
   "outputs": [],
   "source": [
    "# Creating data set\n",
    " \n",
    "# A\n",
    "d =[0, 1, 1, 1, 0, 0,    \n",
    "\t0, 1, 0, 0, 1, 0,    \n",
    "\t0, 1, 0, 0, 1, 0,    \n",
    "\t0, 1, 0, 0, 1, 0,    \n",
    "\t0, 1, 1, 1, 0, 0]\n",
    "\n",
    "# B\n",
    "j =[1, 1, 1, 1, 1, 1,\n",
    "\t0, 0, 0, 1, 0, 0,\n",
    "\t0, 0, 0, 1, 0, 0,\n",
    "\t0, 0, 0, 1, 0, 0,\n",
    "\t0, 1, 1, 1, 0, 0]\n",
    "# C\n",
    "c =[0, 1, 1, 1, 1, 0,\n",
    "   0, 1, 0, 0, 0, 0,\n",
    "   0, 1, 0, 0, 0, 0,\n",
    "   0, 1, 0, 0, 0, 0,\n",
    "   0, 1, 1, 1, 1, 0]\n",
    " \n",
    "# Creating labels\n",
    "y =[[1, 0, 0],\n",
    "   [0, 1, 0],\n",
    "   [0, 0, 1]]"
   ]
  },
  {
   "cell_type": "code",
   "execution_count": null,
   "outputs": [],
   "source": [
    "x =[np.array(d).reshape(1, 30), np.array(j).reshape(1, 30),\n",
    "\tnp.array(c).reshape(1, 30)]\n",
    "\n",
    "y = np.array(y)"
   ],
   "metadata": {
    "collapsed": false,
    "is_executing": true
   },
   "id": "36f0b51dac0a7f1e"
  },
  {
   "cell_type": "code",
   "execution_count": null,
   "outputs": [],
   "source": [
    "redneuronal = NeuralNetwork(30,5,3,seed = 42)"
   ],
   "metadata": {
    "collapsed": false,
    "is_executing": true
   },
   "id": "51f6123e7d5c0e18"
  },
  {
   "cell_type": "code",
   "execution_count": null,
   "outputs": [],
   "source": [
    "redneuronal.train(x,y,0.1, 100)"
   ],
   "metadata": {
    "collapsed": false,
    "is_executing": true
   },
   "id": "3e840330fcbd1775"
  },
  {
   "cell_type": "code",
   "execution_count": null,
   "outputs": [],
   "source": [
    "# plotting accuracy\n",
    "plt.plot(redneuronal.train_acc)\n",
    "plt.ylabel('Accuracy')\n",
    "plt.xlabel(\"Epochs:\")\n",
    "plt.show()\n",
    "\n",
    "# plotting Loss\n",
    "plt.plot(redneuronal.train_loss)\n",
    "plt.ylabel('Loss')\n",
    "plt.xlabel(\"Epochs:\")\n",
    "plt.show()"
   ],
   "metadata": {
    "collapsed": false,
    "is_executing": true
   },
   "id": "21e04c167f3853b9"
  },
  {
   "cell_type": "code",
   "execution_count": null,
   "outputs": [],
   "source": [
    "weird_d=[0, 1, 1, 1, 1, 0,    \n",
    "\t0, 1, 0, 0, 1, 0,    \n",
    "\t0, 1, 0, 0, 1, 0,    \n",
    "\t0, 1, 0, 0, 1, 0,    \n",
    "\t0, 1, 1, 1, 1, 0]\n",
    "weird_d = np.array(weird_d).reshape(1, 30)\n",
    "redneuronal.predict(weird_d)"
   ],
   "metadata": {
    "collapsed": false,
    "is_executing": true
   },
   "id": "d2cb7b47800dc0d1"
  }
 ],
 "metadata": {
  "kernelspec": {
   "display_name": "Python 3",
   "language": "python",
   "name": "python3"
  },
  "language_info": {
   "codemirror_mode": {
    "name": "ipython",
    "version": 2
   },
   "file_extension": ".py",
   "mimetype": "text/x-python",
   "name": "python",
   "nbconvert_exporter": "python",
   "pygments_lexer": "ipython2",
   "version": "2.7.6"
  }
 },
 "nbformat": 4,
 "nbformat_minor": 5
}
