{
 "cells": [
  {
   "cell_type": "code",
   "execution_count": 51,
   "outputs": [],
   "source": [
    "from NeuralNetwork import NeuralNetwork\n",
    "import matplotlib.pyplot as plt\n",
    "import numpy as np"
   ],
   "metadata": {
    "collapsed": false,
    "ExecuteTime": {
     "end_time": "2023-11-17T13:16:05.067048800Z",
     "start_time": "2023-11-17T13:16:05.035045900Z"
    }
   },
   "id": "16fb7b2dc0aca33d"
  },
  {
   "cell_type": "code",
   "execution_count": 52,
   "id": "initial_id",
   "metadata": {
    "collapsed": true,
    "ExecuteTime": {
     "end_time": "2023-11-17T13:16:05.089045100Z",
     "start_time": "2023-11-17T13:16:05.057045700Z"
    }
   },
   "outputs": [],
   "source": [
    "# A\n",
    "a =[0, 0, 0, 1, 1, 0, 0, 0,\n",
    "0, 0, 1, 0, 0, 1, 0, 0,\n",
    "0, 1, 0, 0, 0, 0, 1, 0,\n",
    "1, 1, 1, 1, 1, 1, 1, 1,\n",
    "1, 0, 0, 0, 0, 0, 0, 1,\n",
    "1, 0, 0, 0, 0, 0, 0, 1,\n",
    "1, 0, 0, 0, 0, 0, 0, 1,\n",
    "1, 0, 0, 0, 0, 0, 0, 1]\n",
    "\n",
    "\n",
    "# B\n",
    "e =[1, 1, 1, 1, 1, 1, 1, 1,\n",
    "1, 0, 0, 0, 0, 0, 0, 0,\n",
    "1, 0, 0, 0, 0, 0, 0, 0,\n",
    "1, 1, 1, 1, 1, 1, 0, 0,\n",
    "1, 0, 0, 0, 0, 0, 0, 0,\n",
    "1, 0, 0, 0, 0, 0, 0, 0,\n",
    "1, 0, 0, 0, 0, 0, 0, 0,\n",
    "1, 1, 1, 1, 1, 1, 1, 1\n",
    "]\n",
    "# C\n",
    "i =[1, 1, 1, 1, 1, 1, 1, 1,\n",
    "0, 0, 0, 1, 1, 0, 0, 0,\n",
    "0, 0, 0, 1, 1, 0, 0, 0,\n",
    "0, 0, 0, 1, 1, 0, 0, 0,\n",
    "0, 0, 0, 1, 1, 0, 0, 0,\n",
    "0, 0, 0, 1, 1, 0, 0, 0,\n",
    "0, 0, 0, 1, 1, 0, 0, 0,\n",
    "1, 1, 1, 1, 1, 1, 1, 1\n",
    "]\n",
    "\n",
    "o =[0, 1, 1, 1, 1, 1, 1, 0,\n",
    "1, 0, 0, 0, 0, 0, 0, 1,\n",
    "1, 0, 0, 0, 0, 0, 0, 1,\n",
    "1, 0, 0, 0, 0, 0, 0, 1,\n",
    "1, 0, 0, 0, 0, 0, 0, 1,\n",
    "1, 0, 0, 0, 0, 0, 0, 1,\n",
    "1, 0, 0, 0, 0, 0, 0, 1,\n",
    "0, 1, 1, 1, 1, 1, 1, 0\n",
    "]\n",
    "\n",
    "u =[1, 0, 0, 0, 0, 0, 0, 1,\n",
    "1, 0, 0, 0, 0, 0, 0, 1,\n",
    "1, 0, 0, 0, 0, 0, 0, 1,\n",
    "1, 0, 0, 0, 0, 0, 0, 1,\n",
    "1, 0, 0, 0, 0, 0, 0, 1,\n",
    "1, 0, 0, 0, 0, 0, 0, 1,\n",
    "1, 0, 0, 0, 0, 0, 0, 1,\n",
    "0, 1, 1, 1, 1, 1, 1, 0\n",
    "]\n",
    "\n",
    "a_small = [0, 0, 0, 0, 0, 0, 0, 0,\n",
    "           0, 0, 0, 1, 1, 0, 0, 0,\n",
    "           0, 0, 1, 0, 0, 1, 0, 0,\n",
    "           0, 1, 1, 1, 1, 1, 1, 0,\n",
    "           0, 1, 0, 0, 0, 0, 1, 0,\n",
    "           0, 1, 0, 0, 0, 0, 1, 0,\n",
    "           0, 1, 0, 0, 0, 0, 1, 0,\n",
    "           0, 0, 0, 0, 0, 0, 0, 0]\n",
    "\n",
    "\n",
    "e_small = [0, 0, 0, 0, 0, 0, 0, 0,\n",
    "           0, 1, 1, 1, 1, 1, 1, 0,\n",
    "           0, 1, 0, 0, 0, 0, 0, 0,\n",
    "           0, 1, 1, 1, 1, 0, 0, 0,\n",
    "           0, 1, 0, 0, 0, 0, 0, 0,\n",
    "           0, 1, 0, 0, 0, 0, 0, 0,\n",
    "           0, 1, 1, 1, 1, 1, 1, 0,\n",
    "           0, 0, 0, 0, 0, 0, 0, 0]\n",
    "\n",
    "i_small = [0, 0, 0, 0, 0, 0, 0, 0,\n",
    "           0, 0, 1, 1, 1, 1, 0, 0,\n",
    "           0, 0, 0, 1, 1, 0, 0, 0,\n",
    "           0, 0, 0, 1, 1, 0, 0, 0,\n",
    "           0, 0, 0, 1, 1, 0, 0, 0,\n",
    "           0, 0, 0, 1, 1, 0, 0, 0,\n",
    "           0, 0, 0, 1, 1, 0, 0, 0,\n",
    "           0, 0, 1, 1, 1, 1, 0, 0]\n",
    "\n",
    "o_small = [0, 0, 0, 0, 0, 0, 0, 0,\n",
    "           0, 1, 1, 1, 1, 1, 1, 0,\n",
    "           0, 1, 0, 0, 0, 0, 1, 0,\n",
    "           0, 1, 0, 0, 0, 0, 1, 0,\n",
    "           0, 1, 0, 0, 0, 0, 1, 0,\n",
    "           0, 1, 0, 0, 0, 0, 1, 0,\n",
    "           0, 1, 1, 1, 1, 1, 1, 0,\n",
    "           0, 0, 0, 0, 0, 0, 0, 0]\n",
    "\n",
    "u_small = [0, 0, 0, 0, 0, 0, 0, 0,\n",
    "           0, 1, 0, 0, 0, 0, 1, 0,\n",
    "           0, 1, 0, 0, 0, 0, 1, 0,\n",
    "           0, 1, 0, 0, 0, 0, 1, 0,\n",
    "           0, 1, 0, 0, 0, 0, 1, 0,\n",
    "           0, 1, 0, 0, 0, 0, 1, 0,\n",
    "           0, 1, 1, 1, 1, 1, 1, 0,\n",
    "           0, 0, 0, 0, 0, 0, 0, 0]\n",
    "\n",
    " \n",
    "base_samples = [a,e,i,o,u,a_small,e_small,i_small,o_small,u_small]\n",
    "\n",
    "base_labels = [[1, 0, 0, 0, 0],  # A\n",
    "               [0, 1, 0, 0, 0],  # E\n",
    "               [0, 0, 1, 0, 0],  # I\n",
    "               [0, 0, 0, 1, 0],  # O\n",
    "               [0, 0, 0, 0, 1],  # U\n",
    "               [1, 0, 0, 0, 0],  # Small A\n",
    "               [0, 1, 0, 0, 0],  # Small E\n",
    "               [0, 0, 1, 0, 0],  # Small I\n",
    "               [0, 0, 0, 1, 0],  # Small O\n",
    "               [0, 0, 0, 0, 1]]  # Small U"
   ]
  },
  {
   "cell_type": "code",
   "execution_count": 53,
   "outputs": [],
   "source": [
    "x = []\n",
    "for input in base_samples:\n",
    "\tx.append(np.array(input).reshape(1, 64))\n",
    "\n",
    "y = np.array(base_labels)"
   ],
   "metadata": {
    "collapsed": false,
    "ExecuteTime": {
     "end_time": "2023-11-17T13:16:05.089045100Z",
     "start_time": "2023-11-17T13:16:05.072046900Z"
    }
   },
   "id": "36f0b51dac0a7f1e"
  },
  {
   "cell_type": "code",
   "execution_count": 54,
   "outputs": [],
   "source": [
    "redneuronal = NeuralNetwork(64,16,5,seed = 10)"
   ],
   "metadata": {
    "collapsed": false,
    "ExecuteTime": {
     "end_time": "2023-11-17T13:16:05.105045500Z",
     "start_time": "2023-11-17T13:16:05.088045200Z"
    }
   },
   "id": "51f6123e7d5c0e18"
  },
  {
   "cell_type": "code",
   "execution_count": 55,
   "outputs": [
    {
     "name": "stdout",
     "output_type": "stream",
     "text": [
      "Epoch: 1, Accuracy: 60.91%\n",
      "Epoch: 2, Accuracy: 64.03%\n",
      "Epoch: 3, Accuracy: 67.02%\n",
      "Epoch: 4, Accuracy: 69.82%\n",
      "Epoch: 5, Accuracy: 72.35%\n",
      "Epoch: 6, Accuracy: 74.63%\n",
      "Epoch: 7, Accuracy: 76.62%\n",
      "Epoch: 8, Accuracy: 78.23%\n",
      "Epoch: 9, Accuracy: 79.42%\n",
      "Epoch: 10, Accuracy: 80.30%\n",
      "Epoch: 11, Accuracy: 81.00%\n",
      "Epoch: 12, Accuracy: 81.59%\n",
      "Epoch: 13, Accuracy: 82.14%\n",
      "Epoch: 14, Accuracy: 82.68%\n",
      "Epoch: 15, Accuracy: 83.24%\n",
      "Epoch: 16, Accuracy: 83.83%\n",
      "Epoch: 17, Accuracy: 84.46%\n",
      "Epoch: 18, Accuracy: 85.08%\n",
      "Epoch: 19, Accuracy: 85.64%\n",
      "Epoch: 20, Accuracy: 86.09%\n",
      "Epoch: 21, Accuracy: 86.46%\n",
      "Epoch: 22, Accuracy: 86.75%\n",
      "Epoch: 23, Accuracy: 87.00%\n",
      "Epoch: 24, Accuracy: 87.21%\n",
      "Epoch: 25, Accuracy: 87.40%\n",
      "Epoch: 26, Accuracy: 87.57%\n",
      "Epoch: 27, Accuracy: 87.71%\n",
      "Epoch: 28, Accuracy: 87.85%\n",
      "Epoch: 29, Accuracy: 87.97%\n",
      "Epoch: 30, Accuracy: 88.09%\n",
      "Epoch: 31, Accuracy: 88.20%\n",
      "Epoch: 32, Accuracy: 88.30%\n",
      "Epoch: 33, Accuracy: 88.40%\n",
      "Epoch: 34, Accuracy: 88.49%\n",
      "Epoch: 35, Accuracy: 88.58%\n",
      "Epoch: 36, Accuracy: 88.67%\n",
      "Epoch: 37, Accuracy: 88.75%\n",
      "Epoch: 38, Accuracy: 88.83%\n",
      "Epoch: 39, Accuracy: 88.91%\n",
      "Epoch: 40, Accuracy: 88.99%\n",
      "Epoch: 41, Accuracy: 89.07%\n",
      "Epoch: 42, Accuracy: 89.14%\n",
      "Epoch: 43, Accuracy: 89.22%\n",
      "Epoch: 44, Accuracy: 89.29%\n",
      "Epoch: 45, Accuracy: 89.36%\n",
      "Epoch: 46, Accuracy: 89.43%\n",
      "Epoch: 47, Accuracy: 89.50%\n",
      "Epoch: 48, Accuracy: 89.57%\n",
      "Epoch: 49, Accuracy: 89.64%\n",
      "Epoch: 50, Accuracy: 89.71%\n",
      "Epoch: 51, Accuracy: 89.77%\n",
      "Epoch: 52, Accuracy: 89.84%\n",
      "Epoch: 53, Accuracy: 89.90%\n",
      "Epoch: 54, Accuracy: 89.96%\n",
      "Epoch: 55, Accuracy: 90.02%\n",
      "Epoch: 56, Accuracy: 90.09%\n",
      "Epoch: 57, Accuracy: 90.15%\n",
      "Epoch: 58, Accuracy: 90.21%\n",
      "Epoch: 59, Accuracy: 90.27%\n",
      "Epoch: 60, Accuracy: 90.32%\n",
      "Epoch: 61, Accuracy: 90.38%\n",
      "Epoch: 62, Accuracy: 90.44%\n",
      "Epoch: 63, Accuracy: 90.49%\n",
      "Epoch: 64, Accuracy: 90.55%\n",
      "Epoch: 65, Accuracy: 90.61%\n",
      "Epoch: 66, Accuracy: 90.66%\n",
      "Epoch: 67, Accuracy: 90.71%\n",
      "Epoch: 68, Accuracy: 90.77%\n",
      "Epoch: 69, Accuracy: 90.82%\n",
      "Epoch: 70, Accuracy: 90.87%\n",
      "Epoch: 71, Accuracy: 90.93%\n",
      "Epoch: 72, Accuracy: 90.98%\n",
      "Epoch: 73, Accuracy: 91.03%\n",
      "Epoch: 74, Accuracy: 91.08%\n",
      "Epoch: 75, Accuracy: 91.13%\n",
      "Epoch: 76, Accuracy: 91.18%\n",
      "Epoch: 77, Accuracy: 91.23%\n",
      "Epoch: 78, Accuracy: 91.28%\n",
      "Epoch: 79, Accuracy: 91.33%\n",
      "Epoch: 80, Accuracy: 91.37%\n",
      "Epoch: 81, Accuracy: 91.42%\n",
      "Epoch: 82, Accuracy: 91.47%\n",
      "Epoch: 83, Accuracy: 91.51%\n",
      "Epoch: 84, Accuracy: 91.56%\n",
      "Epoch: 85, Accuracy: 91.60%\n",
      "Epoch: 86, Accuracy: 91.65%\n",
      "Epoch: 87, Accuracy: 91.69%\n",
      "Epoch: 88, Accuracy: 91.74%\n",
      "Epoch: 89, Accuracy: 91.78%\n",
      "Epoch: 90, Accuracy: 91.82%\n",
      "Epoch: 91, Accuracy: 91.87%\n",
      "Epoch: 92, Accuracy: 91.91%\n",
      "Epoch: 93, Accuracy: 91.95%\n",
      "Epoch: 94, Accuracy: 91.99%\n",
      "Epoch: 95, Accuracy: 92.03%\n",
      "Epoch: 96, Accuracy: 92.08%\n",
      "Epoch: 97, Accuracy: 92.12%\n",
      "Epoch: 98, Accuracy: 92.16%\n",
      "Epoch: 99, Accuracy: 92.20%\n",
      "Epoch: 100, Accuracy: 92.24%\n"
     ]
    }
   ],
   "source": [
    "redneuronal.train(x,y,0.1, 100)"
   ],
   "metadata": {
    "collapsed": false,
    "ExecuteTime": {
     "end_time": "2023-11-17T13:16:05.196044800Z",
     "start_time": "2023-11-17T13:16:05.105045500Z"
    }
   },
   "id": "3e840330fcbd1775"
  },
  {
   "cell_type": "code",
   "execution_count": 56,
   "outputs": [
    {
     "data": {
      "text/plain": "<Figure size 640x480 with 1 Axes>",
      "image/png": "[encoded data removed]"
     },
     "metadata": {},
     "output_type": "display_data"
    },
    {
     "data": {
      "text/plain": "<Figure size 640x480 with 1 Axes>",
      "image/png": "[encoded data removed]"
     },
     "metadata": {},
     "output_type": "display_data"
    }
   ],
   "source": [
    "# plotting accuracy\n",
    "plt.plot(redneuronal.train_acc)\n",
    "plt.ylabel('Accuracy')\n",
    "plt.xlabel(\"Epochs:\")\n",
    "plt.show()\n",
    "\n",
    "# plotting Loss\n",
    "plt.plot(redneuronal.train_loss)\n",
    "plt.ylabel('Loss')\n",
    "plt.xlabel(\"Epochs:\")\n",
    "plt.show()"
   ],
   "metadata": {
    "collapsed": false,
    "ExecuteTime": {
     "end_time": "2023-11-17T13:16:05.460045300Z",
     "start_time": "2023-11-17T13:16:05.197048200Z"
    }
   },
   "id": "21e04c167f3853b9"
  },
  {
   "cell_type": "code",
   "execution_count": 70,
   "outputs": [
    {
     "name": "stdout",
     "output_type": "stream",
     "text": [
      "Image is of letter E.\n"
     ]
    },
    {
     "data": {
      "text/plain": "<Figure size 640x480 with 1 Axes>",
      "image/png": "[encoded data removed]"
     },
     "metadata": {},
     "output_type": "display_data"
    }
   ],
   "source": [
    "e = [      0, 0, 0, 0, 0, 0, 0, 0,\n",
    "           0, 1, 1, 1, 1, 1, 1, 0,\n",
    "           0, 1, 0, 0, 0, 0, 1, 0,\n",
    "           0, 1, 1, 1, 1, 0, 0, 0,\n",
    "           0, 1, 1, 1, 1, 0, 0, 0,\n",
    "           0, 1, 0, 0, 0, 0, 1, 0,\n",
    "           0, 1, 1, 1, 1, 1, 1, 0,\n",
    "           0, 0, 0, 0, 0, 0, 0, 0]\n",
    "weird_e = np.array(e).reshape(1, 64)\n",
    "redneuronal.predict(weird_e)"
   ],
   "metadata": {
    "collapsed": false,
    "ExecuteTime": {
     "end_time": "2023-11-17T13:25:23.856655Z",
     "start_time": "2023-11-17T13:25:23.656655700Z"
    }
   },
   "id": "d2cb7b47800dc0d1"
  },
  {
   "cell_type": "code",
   "execution_count": 57,
   "outputs": [],
   "source": [],
   "metadata": {
    "collapsed": false,
    "ExecuteTime": {
     "end_time": "2023-11-17T13:16:05.690047500Z",
     "start_time": "2023-11-17T13:16:05.633047300Z"
    }
   },
   "id": "bec8275a7437d9f"
  }
 ],
 "metadata": {
  "kernelspec": {
   "display_name": "Python 3",
   "language": "python",
   "name": "python3"
  },
  "language_info": {
   "codemirror_mode": {
    "name": "ipython",
    "version": 2
   },
   "file_extension": ".py",
   "mimetype": "text/x-python",
   "name": "python",
   "nbconvert_exporter": "python",
   "pygments_lexer": "ipython2",
   "version": "2.7.6"
  }
 },
 "nbformat": 4,
 "nbformat_minor": 5
}
