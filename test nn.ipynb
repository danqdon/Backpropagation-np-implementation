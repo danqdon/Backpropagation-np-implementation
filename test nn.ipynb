{
 "cells": [
  {
   "cell_type": "code",
   "execution_count": 30,
   "outputs": [],
   "source": [
    "import numpy as np\n",
    "import matplotlib.pyplot as plt"
   ],
   "metadata": {
    "collapsed": false,
    "ExecuteTime": {
     "end_time": "2023-11-12T13:03:37.892413400Z",
     "start_time": "2023-11-12T13:03:37.852821700Z"
    }
   },
   "id": "3ebc0d4ad99e9be6"
  },
  {
   "cell_type": "code",
   "execution_count": 31,
   "outputs": [],
   "source": [
    "# Creating data set\n",
    " \n",
    "# A\n",
    "d =[0, 1, 1, 1, 0, 0,    \n",
    "\t0, 1, 0, 0, 1, 0,    \n",
    "\t0, 1, 0, 0, 1, 0,    \n",
    "\t0, 1, 0, 0, 1, 0,    \n",
    "\t0, 1, 1, 1, 0, 0]\n",
    "\n",
    "# B\n",
    "j =[1, 1, 1, 1, 1, 1,\n",
    "\t0, 0, 0, 1, 0, 0,\n",
    "\t0, 0, 0, 1, 0, 0,\n",
    "\t0, 0, 0, 1, 0, 0,\n",
    "\t0, 1, 1, 1, 0, 0]\n",
    "# C\n",
    "c =[0, 1, 1, 1, 1, 0,\n",
    "   0, 1, 0, 0, 0, 0,\n",
    "   0, 1, 0, 0, 0, 0,\n",
    "   0, 1, 0, 0, 0, 0,\n",
    "   0, 1, 1, 1, 1, 0]\n",
    " \n",
    "# Creating labels\n",
    "y =[[1, 0, 0],\n",
    "   [0, 1, 0],\n",
    "   [0, 0, 1]]"
   ],
   "metadata": {
    "collapsed": false,
    "ExecuteTime": {
     "end_time": "2023-11-12T13:03:37.933041400Z",
     "start_time": "2023-11-12T13:03:37.868364500Z"
    }
   },
   "id": "aac169010f633869"
  },
  {
   "cell_type": "code",
   "execution_count": 32,
   "outputs": [
    {
     "name": "stdout",
     "output_type": "stream",
     "text": [
      "[array([[0, 1, 1, 1, 0, 0, 0, 1, 0, 0, 1, 0, 0, 1, 0, 0, 1, 0, 0, 1, 0, 0,\n",
      "        1, 0, 0, 1, 1, 1, 0, 0]]), array([[1, 1, 1, 1, 1, 1, 0, 0, 0, 1, 0, 0, 0, 0, 0, 1, 0, 0, 0, 0, 0, 1,\n",
      "        0, 0, 0, 1, 1, 1, 0, 0]]), array([[0, 1, 1, 1, 1, 0, 0, 1, 0, 0, 0, 0, 0, 1, 0, 0, 0, 0, 0, 1, 0, 0,\n",
      "        0, 0, 0, 1, 1, 1, 1, 0]])] \n",
      "\n",
      " [[1 0 0]\n",
      " [0 1 0]\n",
      " [0 0 1]]\n"
     ]
    }
   ],
   "source": [
    "# converting data and labels into numpy array\n",
    "\n",
    "\"\"\"\n",
    "Convert the matrix of 0 and 1 into one hot vector \n",
    "so that we can directly feed it to the neural network,\n",
    "these vectors are then stored in a list x.\n",
    "\"\"\"\n",
    "\n",
    "x =[np.array(d).reshape(1, 30), np.array(j).reshape(1, 30),\n",
    "\tnp.array(c).reshape(1, 30)]\n",
    "\n",
    "\n",
    "# Labels are also converted into NumPy array\n",
    "y = np.array(y)\n",
    "\n",
    "\n",
    "print(x, \"\\n\\n\", y)"
   ],
   "metadata": {
    "collapsed": false,
    "ExecuteTime": {
     "end_time": "2023-11-12T13:03:37.934044100Z",
     "start_time": "2023-11-12T13:03:37.882413100Z"
    }
   },
   "id": "3b92791e3281e006"
  },
  {
   "cell_type": "code",
   "execution_count": 33,
   "outputs": [],
   "source": [
    "# activation function\n",
    "\n",
    "def sigmoid(x):\n",
    "\treturn(1/(1 + np.exp(-x)))\n",
    "\n",
    "def f_forward(x, w1, w2):\n",
    "\t# hidden\n",
    "\tz1 = x.dot(w1)# input from layer 1 \n",
    "\ta1 = sigmoid(z1)# out put of layer 2 \n",
    "\t\n",
    "\t# Output layer\n",
    "\tz2 = a1.dot(w2)# input of out layer\n",
    "\ta2 = sigmoid(z2)# output of out layer\n",
    "\treturn(a2)\n",
    "\n",
    "# initializing the weights randomly\n",
    "def generate_wt(input_size, hidden_size, output_size):\n",
    "    w1 = np.random.randn(input_size, hidden_size)\n",
    "    w2 = np.random.randn(hidden_size, output_size)\n",
    "    return w1, w2\n",
    "\t\n",
    "# for loss we will be using mean square error(MSE)\n",
    "def loss(out, Y):\n",
    "    s = (np.square(out - Y))\n",
    "    s = np.sum(s) / len(Y)  # Make sure it's uppercase 'Y'\n",
    "    return s\n",
    "\n",
    "def sigmoid_prime(x):\n",
    "    return sigmoid(x) * (1 - sigmoid(x))\n",
    "\n",
    "# Backpropagation adapted for the new network structure with descriptive variable names\n",
    "def back_prop(x, y, w1, w2, alpha):\n",
    "    # Forward pass\n",
    "    input_to_hidden = x.dot(w1)\n",
    "    hidden_activation = sigmoid(input_to_hidden)\n",
    "    hidden_to_output = hidden_activation.dot(w2)\n",
    "    output_activation = sigmoid(hidden_to_output)\n",
    "    \n",
    "    # Compute the error at the output\n",
    "    derivative_output_error = output_activation - y\n",
    "    \n",
    "    # Compute the derivative of the sigmoid function at the output layer\n",
    "    derivative_output_activation = sigmoid_prime(hidden_to_output)\n",
    "    \n",
    "    # Compute the gradient for the output layer weights\n",
    "    gradient_w2_weights = hidden_activation.T.dot(derivative_output_activation * derivative_output_error)\n",
    "    \n",
    "    # Compute the error at the hidden layer by backpropagating the output error through the weights\n",
    "    hidden_error = (derivative_output_error * derivative_output_activation).dot(w2.T)\n",
    "    \n",
    "    # Compute the derivative of the sigmoid function at the hidden layer\n",
    "    derivative_hidden_activation = sigmoid_prime(input_to_hidden)\n",
    "    \n",
    "    # Compute the gradient for the hidden layer weights\n",
    "    gradient_w1_weights = x.T.dot(derivative_hidden_activation * hidden_error)\n",
    "    \n",
    "    # Update weights with the computed gradients\n",
    "    w1 -= alpha * gradient_w1_weights\n",
    "    w2 -= alpha * gradient_w2_weights\n",
    "    \n",
    "    return w1, w2\n",
    "\n",
    "\n",
    "def train(x, Y, w1, w2, alpha = 0.01, epoch = 10):\n",
    "\tacc =[]\n",
    "\tlosss =[]\n",
    "\tfor j in range(epoch):\n",
    "\t\tl =[]\n",
    "\t\tfor i in range(len(x)):\n",
    "\t\t\tout = f_forward(x[i], w1, w2)\n",
    "\t\t\tl.append((loss(out, Y[i])))\n",
    "\t\t\tw1, w2 = back_prop(x[i], Y[i], w1, w2, alpha)\n",
    "\t\tprint(\"epochs:\", j + 1, \"======== acc:\", (1-(sum(l)/len(x)))*100) \n",
    "\t\tacc.append((1-(sum(l)/len(x)))*100)\n",
    "\t\tlosss.append(sum(l)/len(x))\n",
    "\treturn(acc, losss, w1, w2)\n",
    "\n",
    "def predict(x, w1, w2):\n",
    "\tif x.ndim == 1:\n",
    "\t\tx = x.reshape(1, -1)\n",
    "\tOut = f_forward(x, w1, w2)\n",
    "\tmaxm = 0\n",
    "\tk = 0\n",
    "\tfor i in range(len(Out[0])):\n",
    "\t\tif(maxm<Out[0][i]):\n",
    "\t\t\tmaxm = Out[0][i]\n",
    "\t\t\tk = i\n",
    "\tif(k == 0):\n",
    "\t\tprint(\"Image is of letter D.\")\n",
    "\telif(k == 1):\n",
    "\t\tprint(\"Image is of letter J.\")\n",
    "\telse:\n",
    "\t\tprint(\"Image is of letter C.\")\n",
    "\tplt.imshow(x.reshape(5, 6))\n",
    "\tplt.show() "
   ],
   "metadata": {
    "collapsed": false,
    "ExecuteTime": {
     "end_time": "2023-11-12T13:03:37.935043900Z",
     "start_time": "2023-11-12T13:03:37.908440Z"
    }
   },
   "id": "9dea8f8cb24cf065"
  },
  {
   "cell_type": "code",
   "execution_count": 34,
   "outputs": [
    {
     "name": "stdout",
     "output_type": "stream",
     "text": [
      "[[ 1.09310202 -0.337599   -0.86256604  1.67731774 -1.01799032]\n",
      " [ 1.45511772 -0.48535919  0.66440195  1.11775783  0.61862335]\n",
      " [ 1.42464968 -0.59547624 -0.67972401 -0.48560746  0.23063554]\n",
      " [-0.62553582  2.90521644 -0.06673751  0.04613201  1.739403  ]\n",
      " [ 0.20003581  0.26798183  0.585808    0.4799792   0.9361789 ]\n",
      " [ 0.12336998 -0.77842191  0.15875971 -0.30113058 -0.33145794]\n",
      " [ 1.57350828 -0.73236687 -2.1853969  -0.28348171 -1.17965437]\n",
      " [-0.08781642 -0.62591326 -0.77225168  0.19180603 -0.46721996]\n",
      " [ 0.39051187 -0.38427636  0.72046294 -0.99157     1.12684487]\n",
      " [ 0.16752691  0.33517775 -0.86234475 -0.42420461 -0.17714203]\n",
      " [-0.36616527 -0.07153385  0.61645406 -1.04309116  1.39176698]\n",
      " [ 0.04613971  0.39299169 -0.08708068 -1.8663722   0.10016421]\n",
      " [ 0.68138188 -2.24791303  1.76197647 -0.99593004 -0.10450992]\n",
      " [-0.77213217  0.33212626  0.72284345 -0.46922404  0.60648542]\n",
      " [-0.74929626  0.31174283 -0.19728359 -1.00273719  0.23028163]\n",
      " [-0.47842439 -0.13376572  0.6442297  -1.0302085   0.56588301]\n",
      " [-0.09429801 -2.1494018  -1.28600295 -1.54116679 -2.28323975]\n",
      " [-0.98520467  0.11025398  1.12919385  0.65033494  1.00381034]\n",
      " [-0.26050262 -0.37520908  0.95444326  1.45556547 -1.44718049]\n",
      " [ 1.31592026  0.39498515  0.02314297  1.21936447 -0.99402358]\n",
      " [ 1.14519504  1.11430711 -1.66016668  0.90042395  2.57016269]\n",
      " [ 0.64646177  0.06659452  0.88474249  1.2368686  -0.48301609]\n",
      " [-0.86961525 -1.28723481 -0.04017955  0.75189399 -2.66500275]\n",
      " [-0.79070356 -0.02831342  0.11100762  0.75527008  1.01634652]\n",
      " [ 0.45323643  0.83918639  0.33231067 -0.87690034 -0.87616804]\n",
      " [-0.04132908  0.83696678  0.32528195  0.87495541  0.54209801]\n",
      " [ 0.75456291  2.44899459  2.27421166  1.87927133 -0.52265763]\n",
      " [-0.03972387  0.64656668  1.60525233  0.69356791  0.03584629]\n",
      " [ 0.50839042  2.03507977  0.58967386 -0.39294726  0.48107228]\n",
      " [ 0.05572164 -0.22067045  0.73031053 -1.56458615  0.99648945]] \n",
      "\n",
      " [[ 0.80420754  0.51451667  0.9332896 ]\n",
      " [ 0.07090818 -0.38226239  0.13602125]\n",
      " [-0.14038151  1.96935707 -0.91472716]\n",
      " [-0.34268089 -0.59472629  0.11502786]\n",
      " [-2.02636477  0.25897871 -0.5802031 ]]\n",
      "30\n"
     ]
    }
   ],
   "source": [
    "w1, w2 = generate_wt(30, 5, 3)\n",
    "print(w1, \"\\n\\n\", w2)\n",
    "print(len(w1))"
   ],
   "metadata": {
    "collapsed": false,
    "ExecuteTime": {
     "end_time": "2023-11-12T13:03:37.954666400Z",
     "start_time": "2023-11-12T13:03:37.930040400Z"
    }
   },
   "id": "eb9400da727bc10a"
  },
  {
   "cell_type": "code",
   "execution_count": 35,
   "outputs": [
    {
     "name": "stdout",
     "output_type": "stream",
     "text": [
      "epochs: 1 ======== acc: 71.835470750949\n",
      "epochs: 2 ======== acc: 72.34797706265272\n",
      "epochs: 3 ======== acc: 72.87323582155574\n",
      "epochs: 4 ======== acc: 73.409956124677\n",
      "epochs: 5 ======== acc: 73.95552312611417\n",
      "epochs: 6 ======== acc: 74.50597298845962\n",
      "epochs: 7 ======== acc: 75.05610525075218\n",
      "epochs: 8 ======== acc: 75.59975976131234\n",
      "epochs: 9 ======== acc: 76.13025338464938\n",
      "epochs: 10 ======== acc: 76.64092963000083\n",
      "epochs: 11 ======== acc: 77.12573642291898\n",
      "epochs: 12 ======== acc: 77.57973033844735\n",
      "epochs: 13 ======== acc: 77.99941975132094\n",
      "epochs: 14 ======== acc: 78.38290055265243\n",
      "epochs: 15 ======== acc: 78.72978971973205\n",
      "epochs: 16 ======== acc: 79.04100432881145\n",
      "epochs: 17 ======== acc: 79.31845411182357\n",
      "epochs: 18 ======== acc: 79.56471356926093\n",
      "epochs: 19 ======== acc: 79.78272274800342\n",
      "epochs: 20 ======== acc: 79.97554415045971\n",
      "epochs: 21 ======== acc: 80.14618437016955\n",
      "epochs: 22 ======== acc: 80.29747631600449\n",
      "epochs: 23 ======== acc: 80.43201137132019\n",
      "epochs: 24 ======== acc: 80.55210896907184\n",
      "epochs: 25 ======== acc: 80.65981196090844\n",
      "epochs: 26 ======== acc: 80.7568982941557\n",
      "epochs: 27 ======== acc: 80.84490190891258\n",
      "epochs: 28 ======== acc: 80.92513792143934\n",
      "epochs: 29 ======== acc: 80.99872887822222\n",
      "epochs: 30 ======== acc: 81.06663013207343\n",
      "epochs: 31 ======== acc: 81.12965327118306\n",
      "epochs: 32 ======== acc: 81.18848711118888\n",
      "epochs: 33 ======== acc: 81.24371612171224\n",
      "epochs: 34 ======== acc: 81.29583637015212\n",
      "epochs: 35 ======== acc: 81.3452691778685\n",
      "epochs: 36 ======== acc: 81.39237273357752\n",
      "epochs: 37 ======== acc: 81.4374519206479\n",
      "epochs: 38 ======== acc: 81.48076660538888\n",
      "epochs: 39 ======== acc: 81.52253861277856\n",
      "epochs: 40 ======== acc: 81.56295759080943\n",
      "epochs: 41 ======== acc: 81.60218593849218\n",
      "epochs: 42 ======== acc: 81.64036294764526\n",
      "epochs: 43 ======== acc: 81.67760828593657\n",
      "epochs: 44 ======== acc: 81.71402492863756\n",
      "epochs: 45 ======== acc: 81.7497016292368\n",
      "epochs: 46 ======== acc: 81.78471500428438\n",
      "epochs: 47 ======== acc: 81.81913129534813\n",
      "epochs: 48 ======== acc: 81.85300786047873\n",
      "epochs: 49 ======== acc: 81.88639443882205\n",
      "epochs: 50 ======== acc: 81.91933422472319\n",
      "epochs: 51 ======== acc: 81.95186478160639\n",
      "epochs: 52 ======== acc: 81.98401882088622\n",
      "epochs: 53 ======== acc: 82.0158248669927\n",
      "epochs: 54 ======== acc: 82.04730782613422\n",
      "epochs: 55 ======== acc: 82.07848947354994\n",
      "epochs: 56 ======== acc: 82.10938887162072\n",
      "epochs: 57 ======== acc: 82.14002272922441\n",
      "epochs: 58 ======== acc: 82.17040571107404\n",
      "epochs: 59 ======== acc: 82.20055070440158\n",
      "epochs: 60 ======== acc: 82.23046904920383\n",
      "epochs: 61 ======== acc: 82.26017073730814\n",
      "epochs: 62 ======== acc: 82.28966458471216\n",
      "epochs: 63 ======== acc: 82.31895838097894\n",
      "epochs: 64 ======== acc: 82.34805901890266\n",
      "epochs: 65 ======== acc: 82.37697260718348\n",
      "epochs: 66 ======== acc: 82.4057045684487\n",
      "epochs: 67 ======== acc: 82.43425972461785\n",
      "epochs: 68 ======== acc: 82.46264237132165\n",
      "epochs: 69 ======== acc: 82.49085634284195\n",
      "epochs: 70 ======== acc: 82.51890506883187\n",
      "epochs: 71 ======== acc: 82.5467916239002\n",
      "epochs: 72 ======== acc: 82.5745187709934\n",
      "epochs: 73 ======== acc: 82.60208899938047\n",
      "epochs: 74 ======== acc: 82.62950455793714\n",
      "epochs: 75 ======== acc: 82.65676748433035\n",
      "epochs: 76 ======== acc: 82.68387963062533\n",
      "epochs: 77 ======== acc: 82.71084268576698\n",
      "epochs: 78 ======== acc: 82.7376581953282\n",
      "epochs: 79 ======== acc: 82.7643275788667\n",
      "epochs: 80 ======== acc: 82.79085214518702\n",
      "epochs: 81 ======== acc: 82.81723310576675\n",
      "epochs: 82 ======== acc: 82.84347158657222\n",
      "epochs: 83 ======== acc: 82.86956863846108\n",
      "epochs: 84 ======== acc: 82.89552524634307\n",
      "epochs: 85 ======== acc: 82.92134233725021\n",
      "epochs: 86 ======== acc: 82.94702078744727\n",
      "epochs: 87 ======== acc: 82.97256142869833\n",
      "epochs: 88 ======== acc: 82.99796505379014\n",
      "epochs: 89 ======== acc: 83.02323242140093\n",
      "epochs: 90 ======== acc: 83.04836426039259\n",
      "epochs: 91 ======== acc: 83.07336127359417\n",
      "epochs: 92 ======== acc: 83.09822414113714\n",
      "epochs: 93 ======== acc: 83.1229535233947\n",
      "epochs: 94 ======== acc: 83.14755006357191\n",
      "epochs: 95 ======== acc: 83.1720143899873\n",
      "epochs: 96 ======== acc: 83.19634711808203\n",
      "epochs: 97 ======== acc: 83.22054885218824\n",
      "epochs: 98 ======== acc: 83.24462018708466\n",
      "epochs: 99 ======== acc: 83.26856170936381\n",
      "epochs: 100 ======== acc: 83.29237399863302\n"
     ]
    }
   ],
   "source": [
    "\"\"\"The arguments of train function are data set list x, \n",
    "correct labels y, weights w1, w2, learning rate = 0.1, \n",
    "no of epochs or iteration.The function will return the\n",
    "matrix of accuracy and loss and also the matrix of \n",
    "trained weights w1, w2\"\"\"\n",
    "\n",
    "acc, losss, w1, w2 = train(x, y, w1, w2, 0.1, 100)"
   ],
   "metadata": {
    "collapsed": false,
    "ExecuteTime": {
     "end_time": "2023-11-12T13:03:38.045891300Z",
     "start_time": "2023-11-12T13:03:37.945667300Z"
    }
   },
   "id": "e79b1933ed6c6956"
  },
  {
   "cell_type": "code",
   "execution_count": 36,
   "outputs": [
    {
     "data": {
      "text/plain": "<Figure size 640x480 with 1 Axes>",
      "image/png": "[encoded data removed]"
     },
     "metadata": {},
     "output_type": "display_data"
    },
    {
     "data": {
      "text/plain": "<Figure size 640x480 with 1 Axes>",
      "image/png": "[encoded data removed]"
     },
     "metadata": {},
     "output_type": "display_data"
    }
   ],
   "source": [
    "import matplotlib.pyplot as plt1\n",
    "\n",
    "# plotting accuracy\n",
    "plt1.plot(acc)\n",
    "plt1.ylabel('Accuracy')\n",
    "plt1.xlabel(\"Epochs:\")\n",
    "plt1.show()\n",
    "\n",
    "# plotting Loss\n",
    "plt1.plot(losss)\n",
    "plt1.ylabel('Loss')\n",
    "plt1.xlabel(\"Epochs:\")\n",
    "plt1.show()"
   ],
   "metadata": {
    "collapsed": false,
    "ExecuteTime": {
     "end_time": "2023-11-12T13:03:38.300489200Z",
     "start_time": "2023-11-12T13:03:38.006460600Z"
    }
   },
   "id": "69c5436ce18174f5"
  },
  {
   "cell_type": "code",
   "execution_count": 37,
   "outputs": [
    {
     "name": "stdout",
     "output_type": "stream",
     "text": [
      "Image is of letter D.\n"
     ]
    },
    {
     "data": {
      "text/plain": "<Figure size 640x480 with 1 Axes>",
      "image/png": "[encoded data removed]"
     },
     "metadata": {},
     "output_type": "display_data"
    }
   ],
   "source": [
    "weird_d=[0, 1, 1, 1, 1, 0,    \n",
    "\t0, 1, 0, 0, 1, 0,    \n",
    "\t0, 1, 0, 0, 1, 0,    \n",
    "\t0, 1, 0, 0, 1, 0,    \n",
    "\t0, 1, 1, 1, 1, 0]\n",
    "weird_d = np.array(weird_d).reshape(1, 30)\n",
    "predict(weird_d,w1,w2)"
   ],
   "metadata": {
    "collapsed": false,
    "ExecuteTime": {
     "end_time": "2023-11-12T13:03:38.448483Z",
     "start_time": "2023-11-12T13:03:38.298487700Z"
    }
   },
   "id": "67006df25fbf0876"
  }
 ],
 "metadata": {
  "kernelspec": {
   "display_name": "Python 3",
   "language": "python",
   "name": "python3"
  },
  "language_info": {
   "codemirror_mode": {
    "name": "ipython",
    "version": 2
   },
   "file_extension": ".py",
   "mimetype": "text/x-python",
   "name": "python",
   "nbconvert_exporter": "python",
   "pygments_lexer": "ipython2",
   "version": "2.7.6"
  }
 },
 "nbformat": 4,
 "nbformat_minor": 5
}
